{
  "nbformat": 4,
  "nbformat_minor": 0,
  "metadata": {
    "colab": {
      "provenance": [],
      "authorship_tag": "ABX9TyPp7wWwBMCtFCCxI16GdiMc",
      "include_colab_link": true
    },
    "kernelspec": {
      "name": "python3",
      "display_name": "Python 3"
    },
    "language_info": {
      "name": "python"
    }
  },
  "cells": [
    {
      "cell_type": "markdown",
      "metadata": {
        "id": "view-in-github",
        "colab_type": "text"
      },
      "source": [
        "<a href=\"https://colab.research.google.com/github/endophenotype/TF-IDF/blob/main/%D0%90%D0%BD%D0%B0%D0%BB%D0%B8%D0%B7_%D1%82%D0%B5%D0%BA%D1%81%D1%82%D0%B0_%D0%BF%D0%BE%D0%B8%D1%81%D0%BA_%D1%81%D0%BB%D0%BE%D0%B2_%D1%81_%D0%BD%D0%B0%D0%B8%D0%B1%D0%BE%D0%BB%D1%8C%D1%88%D0%B8%D0%BC_%D0%B7%D0%BD%D0%B0%D1%87%D0%B5%D0%BD%D0%B8%D0%B5%D0%BC_%D0%BC%D0%B5%D1%82%D1%80%D0%B8%D0%BA%D0%B8_TF_IDF.ipynb\" target=\"_parent\"><img src=\"https://colab.research.google.com/assets/colab-badge.svg\" alt=\"Open In Colab\"/></a>"
      ]
    },
    {
      "cell_type": "markdown",
      "source": [
        "**Анализ текстовых произведений**\n",
        "\n",
        "---\n",
        "\n",
        "\n",
        "**1.**"
      ],
      "metadata": {
        "id": "FKtoZ2zWZ0vt"
      }
    },
    {
      "cell_type": "code",
      "execution_count": null,
      "metadata": {
        "id": "XYccksQQBmss",
        "colab": {
          "base_uri": "https://localhost:8080/"
        },
        "outputId": "e7bbbc65-bf62-4bf5-b93c-2945ea02fae8"
      },
      "outputs": [
        {
          "output_type": "stream",
          "name": "stderr",
          "text": [
            "[nltk_data] Downloading package punkt to /root/nltk_data...\n",
            "[nltk_data]   Unzipping tokenizers/punkt.zip.\n",
            "[nltk_data] Downloading package stopwords to /root/nltk_data...\n",
            "[nltk_data]   Unzipping corpora/stopwords.zip.\n",
            "/usr/local/lib/python3.10/dist-packages/_distutils_hack/__init__.py:33: UserWarning: Setuptools is replacing distutils.\n",
            "  warnings.warn(\"Setuptools is replacing distutils.\")\n"
          ]
        },
        {
          "output_type": "stream",
          "name": "stdout",
          "text": [
            "Collecting pymorphy2\n",
            "  Downloading pymorphy2-0.9.1-py3-none-any.whl (55 kB)\n",
            "\u001b[2K     \u001b[90m━━━━━━━━━━━━━━━━━━━━━━━━━━━━━━━━━━━━━━━━\u001b[0m \u001b[32m55.5/55.5 kB\u001b[0m \u001b[31m895.4 kB/s\u001b[0m eta \u001b[36m0:00:00\u001b[0m\n",
            "\u001b[?25hCollecting dawg-python>=0.7.1 (from pymorphy2)\n",
            "  Downloading DAWG_Python-0.7.2-py2.py3-none-any.whl (11 kB)\n",
            "Collecting pymorphy2-dicts-ru<3.0,>=2.4 (from pymorphy2)\n",
            "  Downloading pymorphy2_dicts_ru-2.4.417127.4579844-py2.py3-none-any.whl (8.2 MB)\n",
            "\u001b[2K     \u001b[90m━━━━━━━━━━━━━━━━━━━━━━━━━━━━━━━━━━━━━━━━\u001b[0m \u001b[32m8.2/8.2 MB\u001b[0m \u001b[31m26.0 MB/s\u001b[0m eta \u001b[36m0:00:00\u001b[0m\n",
            "\u001b[?25hCollecting docopt>=0.6 (from pymorphy2)\n",
            "  Downloading docopt-0.6.2.tar.gz (25 kB)\n",
            "  Preparing metadata (setup.py) ... \u001b[?25l\u001b[?25hdone\n",
            "Building wheels for collected packages: docopt\n",
            "  Building wheel for docopt (setup.py) ... \u001b[?25l\u001b[?25hdone\n",
            "  Created wheel for docopt: filename=docopt-0.6.2-py2.py3-none-any.whl size=13706 sha256=43f7e386991271f9947b1fe6380ce3238b7ce2e2379f26cc73b454fc4890bbed\n",
            "  Stored in directory: /root/.cache/pip/wheels/fc/ab/d4/5da2067ac95b36618c629a5f93f809425700506f72c9732fac\n",
            "Successfully built docopt\n",
            "Installing collected packages: pymorphy2-dicts-ru, docopt, dawg-python, pymorphy2\n",
            "Successfully installed dawg-python-0.7.2 docopt-0.6.2 pymorphy2-0.9.1 pymorphy2-dicts-ru-2.4.417127.4579844\n"
          ]
        }
      ],
      "source": [
        "import nltk\n",
        "nltk.download('punkt')\n",
        "nltk.download('stopwords')\n",
        "import string\n",
        "import re\n",
        "import pip\n",
        "from nltk.corpus import stopwords\n",
        "import pandas as pd\n",
        "!pip install pymorphy2\n",
        "import pymorphy2\n",
        "from sklearn.feature_extraction.text import CountVectorizer\n",
        "from sklearn.feature_extraction.text import TfidfVectorizer"
      ]
    },
    {
      "cell_type": "code",
      "source": [
        "file = open('Alice.txt','r',encoding='utf-8')\n",
        "text = file.readlines()\n",
        "print(text)"
      ],
      "metadata": {
        "id": "7Z3XwvCFUNTx",
        "colab": {
          "base_uri": "https://localhost:8080/"
        },
        "outputId": "5328ab62-c6f4-4db1-cb27-503136524e3b"
      },
      "execution_count": null,
      "outputs": [
        {
          "output_type": "stream",
          "name": "stdout",
          "text": [
            "[\"Alice was beginning to get very tired of sitting by her sister on the bank, and of having nothing to do: once or twice she had peeped into the book her sister was reading, but it had no pictures or conversations in it, `and what is the use of a book,' thought Alice `without pictures or conversation?'\\n\", 'So she was considering in her own mind (as well as she could, for the hot day made her feel very sleepy and stupid), whether the pleasure of making a daisy-chain would be worth the trouble of getting up and picking the daisies, when suddenly a White Rabbit with pink eyes ran close by her.\\n', '\\n', \"There was nothing so very remarkable in that; nor did Alice think it so very much out of the way to hear the Rabbit say to itself, `Oh dear! Oh dear! I shall be late!' (when she thought it over afterwards, it occurred to her that she ought to have wondered at this, but at the time it all seemed quite natural); but when the Rabbit actually took a watch out of its waistcoat-pocket, and looked at it, and then hurried on, Alice started to her feet, for it flashed across her mind that she had never before seen a rabbit with either a waistcoat-pocket, or a watch to take out of it, and burning with curiosity, she ran across the field after it, and fortunately was just in time to see it pop down a large rabbit-hole under the hedge.\"]\n"
          ]
        }
      ]
    },
    {
      "cell_type": "markdown",
      "source": [
        "**Приведение всех символов текста к нижнему регистру**"
      ],
      "metadata": {
        "id": "9VpmQg-5U8Mr"
      }
    },
    {
      "cell_type": "code",
      "source": [
        "text = [line.lower() for line in text]\n",
        "print(text)"
      ],
      "metadata": {
        "id": "DZZXAIRBU8Bi",
        "colab": {
          "base_uri": "https://localhost:8080/"
        },
        "outputId": "450ee450-5d0f-44fa-b7f5-aea1f96dc940"
      },
      "execution_count": null,
      "outputs": [
        {
          "output_type": "stream",
          "name": "stdout",
          "text": [
            "[\"alice was beginning to get very tired of sitting by her sister on the bank, and of having nothing to do: once or twice she had peeped into the book her sister was reading, but it had no pictures or conversations in it, `and what is the use of a book,' thought alice `without pictures or conversation?'\\n\", 'so she was considering in her own mind (as well as she could, for the hot day made her feel very sleepy and stupid), whether the pleasure of making a daisy-chain would be worth the trouble of getting up and picking the daisies, when suddenly a white rabbit with pink eyes ran close by her.\\n', '\\n', \"there was nothing so very remarkable in that; nor did alice think it so very much out of the way to hear the rabbit say to itself, `oh dear! oh dear! i shall be late!' (when she thought it over afterwards, it occurred to her that she ought to have wondered at this, but at the time it all seemed quite natural); but when the rabbit actually took a watch out of its waistcoat-pocket, and looked at it, and then hurried on, alice started to her feet, for it flashed across her mind that she had never before seen a rabbit with either a waistcoat-pocket, or a watch to take out of it, and burning with curiosity, she ran across the field after it, and fortunately was just in time to see it pop down a large rabbit-hole under the hedge.\"]\n"
          ]
        }
      ]
    },
    {
      "cell_type": "markdown",
      "source": [
        "**Удаление знаков пунктуации, различных небуквенных символов и цифр.** Сделать это можно, применив функцию re.sub и указав в качестве параметра шаблон для поиска всех небуквенных символов"
      ],
      "metadata": {
        "id": "nTRJNpgzVR4s"
      }
    },
    {
      "cell_type": "code",
      "source": [
        "text = [re.sub(r'[^\\w\\s]',' ',line,flags=re.UNICODE) for line in text]\n",
        "print(text)"
      ],
      "metadata": {
        "id": "XwHnLrvbVMyD",
        "colab": {
          "base_uri": "https://localhost:8080/"
        },
        "outputId": "b0412dae-6c96-44a9-eb95-ca3b4b1d57d3"
      },
      "execution_count": null,
      "outputs": [
        {
          "output_type": "stream",
          "name": "stdout",
          "text": [
            "['alice was beginning to get very tired of sitting by her sister on the bank  and of having nothing to do  once or twice she had peeped into the book her sister was reading  but it had no pictures or conversations in it   and what is the use of a book   thought alice  without pictures or conversation  \\n', 'so she was considering in her own mind  as well as she could  for the hot day made her feel very sleepy and stupid   whether the pleasure of making a daisy chain would be worth the trouble of getting up and picking the daisies  when suddenly a white rabbit with pink eyes ran close by her \\n', '\\n', 'there was nothing so very remarkable in that  nor did alice think it so very much out of the way to hear the rabbit say to itself   oh dear  oh dear  i shall be late    when she thought it over afterwards  it occurred to her that she ought to have wondered at this  but at the time it all seemed quite natural   but when the rabbit actually took a watch out of its waistcoat pocket  and looked at it  and then hurried on  alice started to her feet  for it flashed across her mind that she had never before seen a rabbit with either a waistcoat pocket  or a watch to take out of it  and burning with curiosity  she ran across the field after it  and fortunately was just in time to see it pop down a large rabbit hole under the hedge ']\n"
          ]
        }
      ]
    },
    {
      "cell_type": "markdown",
      "source": [
        "Для применения последующих методов необходимо разбить каждую строку на список составляющих её слов."
      ],
      "metadata": {
        "id": "9ntoWVxIVqbg"
      }
    },
    {
      "cell_type": "code",
      "source": [
        "tokenizedText = [nltk.word_tokenize(line) for line in text]\n",
        "print(tokenizedText)"
      ],
      "metadata": {
        "id": "_3wzPy4FVwAT",
        "colab": {
          "base_uri": "https://localhost:8080/"
        },
        "outputId": "e334732f-b725-4277-cbcb-c00495ee273b"
      },
      "execution_count": null,
      "outputs": [
        {
          "output_type": "stream",
          "name": "stdout",
          "text": [
            "[['alice', 'was', 'beginning', 'to', 'get', 'very', 'tired', 'of', 'sitting', 'by', 'her', 'sister', 'on', 'the', 'bank', 'and', 'of', 'having', 'nothing', 'to', 'do', 'once', 'or', 'twice', 'she', 'had', 'peeped', 'into', 'the', 'book', 'her', 'sister', 'was', 'reading', 'but', 'it', 'had', 'no', 'pictures', 'or', 'conversations', 'in', 'it', 'and', 'what', 'is', 'the', 'use', 'of', 'a', 'book', 'thought', 'alice', 'without', 'pictures', 'or', 'conversation'], ['so', 'she', 'was', 'considering', 'in', 'her', 'own', 'mind', 'as', 'well', 'as', 'she', 'could', 'for', 'the', 'hot', 'day', 'made', 'her', 'feel', 'very', 'sleepy', 'and', 'stupid', 'whether', 'the', 'pleasure', 'of', 'making', 'a', 'daisy', 'chain', 'would', 'be', 'worth', 'the', 'trouble', 'of', 'getting', 'up', 'and', 'picking', 'the', 'daisies', 'when', 'suddenly', 'a', 'white', 'rabbit', 'with', 'pink', 'eyes', 'ran', 'close', 'by', 'her'], [], ['there', 'was', 'nothing', 'so', 'very', 'remarkable', 'in', 'that', 'nor', 'did', 'alice', 'think', 'it', 'so', 'very', 'much', 'out', 'of', 'the', 'way', 'to', 'hear', 'the', 'rabbit', 'say', 'to', 'itself', 'oh', 'dear', 'oh', 'dear', 'i', 'shall', 'be', 'late', 'when', 'she', 'thought', 'it', 'over', 'afterwards', 'it', 'occurred', 'to', 'her', 'that', 'she', 'ought', 'to', 'have', 'wondered', 'at', 'this', 'but', 'at', 'the', 'time', 'it', 'all', 'seemed', 'quite', 'natural', 'but', 'when', 'the', 'rabbit', 'actually', 'took', 'a', 'watch', 'out', 'of', 'its', 'waistcoat', 'pocket', 'and', 'looked', 'at', 'it', 'and', 'then', 'hurried', 'on', 'alice', 'started', 'to', 'her', 'feet', 'for', 'it', 'flashed', 'across', 'her', 'mind', 'that', 'she', 'had', 'never', 'before', 'seen', 'a', 'rabbit', 'with', 'either', 'a', 'waistcoat', 'pocket', 'or', 'a', 'watch', 'to', 'take', 'out', 'of', 'it', 'and', 'burning', 'with', 'curiosity', 'she', 'ran', 'across', 'the', 'field', 'after', 'it', 'and', 'fortunately', 'was', 'just', 'in', 'time', 'to', 'see', 'it', 'pop', 'down', 'a', 'large', 'rabbit', 'hole', 'under', 'the', 'hedge']]\n"
          ]
        }
      ]
    },
    {
      "cell_type": "markdown",
      "source": [
        "Необходимо удалить **стоп слова**, которые в процессе применения алгоритмов машинного обучения добавляют шум и влияют на качество модели. Список стоп-слов можно увидеть, воспользовавшись командой:"
      ],
      "metadata": {
        "id": "7gfZxyIkWQCc"
      }
    },
    {
      "cell_type": "code",
      "source": [
        "from nltk.corpus import stopwords\n",
        "stopWords = stopwords.words(\"russian\")\n",
        "print(stopWords)"
      ],
      "metadata": {
        "id": "shDr_gQJWGjs",
        "colab": {
          "base_uri": "https://localhost:8080/"
        },
        "outputId": "85d6326e-9445-466c-8af0-53e8096ceabb"
      },
      "execution_count": null,
      "outputs": [
        {
          "output_type": "stream",
          "name": "stdout",
          "text": [
            "['и', 'в', 'во', 'не', 'что', 'он', 'на', 'я', 'с', 'со', 'как', 'а', 'то', 'все', 'она', 'так', 'его', 'но', 'да', 'ты', 'к', 'у', 'же', 'вы', 'за', 'бы', 'по', 'только', 'ее', 'мне', 'было', 'вот', 'от', 'меня', 'еще', 'нет', 'о', 'из', 'ему', 'теперь', 'когда', 'даже', 'ну', 'вдруг', 'ли', 'если', 'уже', 'или', 'ни', 'быть', 'был', 'него', 'до', 'вас', 'нибудь', 'опять', 'уж', 'вам', 'ведь', 'там', 'потом', 'себя', 'ничего', 'ей', 'может', 'они', 'тут', 'где', 'есть', 'надо', 'ней', 'для', 'мы', 'тебя', 'их', 'чем', 'была', 'сам', 'чтоб', 'без', 'будто', 'чего', 'раз', 'тоже', 'себе', 'под', 'будет', 'ж', 'тогда', 'кто', 'этот', 'того', 'потому', 'этого', 'какой', 'совсем', 'ним', 'здесь', 'этом', 'один', 'почти', 'мой', 'тем', 'чтобы', 'нее', 'сейчас', 'были', 'куда', 'зачем', 'всех', 'никогда', 'можно', 'при', 'наконец', 'два', 'об', 'другой', 'хоть', 'после', 'над', 'больше', 'тот', 'через', 'эти', 'нас', 'про', 'всего', 'них', 'какая', 'много', 'разве', 'три', 'эту', 'моя', 'впрочем', 'хорошо', 'свою', 'этой', 'перед', 'иногда', 'лучше', 'чуть', 'том', 'нельзя', 'такой', 'им', 'более', 'всегда', 'конечно', 'всю', 'между']\n"
          ]
        }
      ]
    },
    {
      "cell_type": "markdown",
      "source": [
        "**Удалим стоп-слова**"
      ],
      "metadata": {
        "id": "W7dr5-srWrGu"
      }
    },
    {
      "cell_type": "code",
      "source": [
        "def lineWithoutStopWords(line):\n",
        "    return [word for word in line if word not in stopWords]\n",
        "withoutStopWords = [lineWithoutStopWords(line) for line in tokenizedText]\n",
        "print(withoutStopWords)"
      ],
      "metadata": {
        "id": "mg1ADO17Wmf-",
        "colab": {
          "base_uri": "https://localhost:8080/"
        },
        "outputId": "75562768-3ef6-433b-9ba0-1b795868889d"
      },
      "execution_count": null,
      "outputs": [
        {
          "output_type": "stream",
          "name": "stdout",
          "text": [
            "[['alice', 'was', 'beginning', 'to', 'get', 'very', 'tired', 'of', 'sitting', 'by', 'her', 'sister', 'on', 'the', 'bank', 'and', 'of', 'having', 'nothing', 'to', 'do', 'once', 'or', 'twice', 'she', 'had', 'peeped', 'into', 'the', 'book', 'her', 'sister', 'was', 'reading', 'but', 'it', 'had', 'no', 'pictures', 'or', 'conversations', 'in', 'it', 'and', 'what', 'is', 'the', 'use', 'of', 'a', 'book', 'thought', 'alice', 'without', 'pictures', 'or', 'conversation'], ['so', 'she', 'was', 'considering', 'in', 'her', 'own', 'mind', 'as', 'well', 'as', 'she', 'could', 'for', 'the', 'hot', 'day', 'made', 'her', 'feel', 'very', 'sleepy', 'and', 'stupid', 'whether', 'the', 'pleasure', 'of', 'making', 'a', 'daisy', 'chain', 'would', 'be', 'worth', 'the', 'trouble', 'of', 'getting', 'up', 'and', 'picking', 'the', 'daisies', 'when', 'suddenly', 'a', 'white', 'rabbit', 'with', 'pink', 'eyes', 'ran', 'close', 'by', 'her'], [], ['there', 'was', 'nothing', 'so', 'very', 'remarkable', 'in', 'that', 'nor', 'did', 'alice', 'think', 'it', 'so', 'very', 'much', 'out', 'of', 'the', 'way', 'to', 'hear', 'the', 'rabbit', 'say', 'to', 'itself', 'oh', 'dear', 'oh', 'dear', 'i', 'shall', 'be', 'late', 'when', 'she', 'thought', 'it', 'over', 'afterwards', 'it', 'occurred', 'to', 'her', 'that', 'she', 'ought', 'to', 'have', 'wondered', 'at', 'this', 'but', 'at', 'the', 'time', 'it', 'all', 'seemed', 'quite', 'natural', 'but', 'when', 'the', 'rabbit', 'actually', 'took', 'a', 'watch', 'out', 'of', 'its', 'waistcoat', 'pocket', 'and', 'looked', 'at', 'it', 'and', 'then', 'hurried', 'on', 'alice', 'started', 'to', 'her', 'feet', 'for', 'it', 'flashed', 'across', 'her', 'mind', 'that', 'she', 'had', 'never', 'before', 'seen', 'a', 'rabbit', 'with', 'either', 'a', 'waistcoat', 'pocket', 'or', 'a', 'watch', 'to', 'take', 'out', 'of', 'it', 'and', 'burning', 'with', 'curiosity', 'she', 'ran', 'across', 'the', 'field', 'after', 'it', 'and', 'fortunately', 'was', 'just', 'in', 'time', 'to', 'see', 'it', 'pop', 'down', 'a', 'large', 'rabbit', 'hole', 'under', 'the', 'hedge']]\n"
          ]
        }
      ]
    },
    {
      "cell_type": "markdown",
      "source": [
        "Тексты содержат различные грамматические формы одного и того же слова либо однокоренные слова. Для приведения встречающихся форм к одной единой используется **лемматизация**.\n",
        "Для этой задачи применим библиотеку pymorphy2"
      ],
      "metadata": {
        "id": "axFW9TI1XHyk"
      }
    },
    {
      "cell_type": "code",
      "source": [
        "morph = pymorphy2.MorphAnalyzer()\n",
        "def normalForm(line):\n",
        "    return [morph.parse(word)[0].normal_form for word in line if len(word)>2]\n",
        "normalForm = [normalForm(line) for line in withoutStopWords]\n",
        "print(normalForm)"
      ],
      "metadata": {
        "id": "giT1OA4lW05q",
        "colab": {
          "base_uri": "https://localhost:8080/"
        },
        "outputId": "de644434-8b41-4a8a-a698-cc6ee45aefa9"
      },
      "execution_count": null,
      "outputs": [
        {
          "output_type": "stream",
          "name": "stdout",
          "text": [
            "[['alice', 'was', 'beginning', 'get', 'very', 'tired', 'sitting', 'her', 'sister', 'the', 'bank', 'and', 'having', 'nothing', 'once', 'twice', 'she', 'had', 'peeped', 'into', 'the', 'book', 'her', 'sister', 'was', 'reading', 'but', 'had', 'pictures', 'conversations', 'and', 'what', 'the', 'use', 'book', 'thought', 'alice', 'without', 'pictures', 'conversation'], ['she', 'was', 'considering', 'her', 'own', 'mind', 'well', 'she', 'could', 'for', 'the', 'hot', 'day', 'made', 'her', 'feel', 'very', 'sleepy', 'and', 'stupid', 'whether', 'the', 'pleasure', 'making', 'daisy', 'chain', 'would', 'worth', 'the', 'trouble', 'getting', 'and', 'picking', 'the', 'daisies', 'when', 'suddenly', 'white', 'rabbit', 'with', 'pink', 'eyes', 'ran', 'close', 'her'], [], ['there', 'was', 'nothing', 'very', 'remarkable', 'that', 'nor', 'did', 'alice', 'think', 'very', 'much', 'out', 'the', 'way', 'hear', 'the', 'rabbit', 'say', 'itself', 'dear', 'dear', 'shall', 'late', 'when', 'she', 'thought', 'over', 'afterwards', 'occurred', 'her', 'that', 'she', 'ought', 'have', 'wondered', 'this', 'but', 'the', 'time', 'all', 'seemed', 'quite', 'natural', 'but', 'when', 'the', 'rabbit', 'actually', 'took', 'watch', 'out', 'its', 'waistcoat', 'pocket', 'and', 'looked', 'and', 'then', 'hurried', 'alice', 'started', 'her', 'feet', 'for', 'flashed', 'across', 'her', 'mind', 'that', 'she', 'had', 'never', 'before', 'seen', 'rabbit', 'with', 'either', 'waistcoat', 'pocket', 'watch', 'take', 'out', 'and', 'burning', 'with', 'curiosity', 'she', 'ran', 'across', 'the', 'field', 'after', 'and', 'fortunately', 'was', 'just', 'time', 'see', 'pop', 'down', 'large', 'rabbit', 'hole', 'under', 'the', 'hedge']]\n"
          ]
        }
      ]
    },
    {
      "cell_type": "markdown",
      "source": [
        "Теперь можно дать оценку словам в полученном документе. Для этого необходимо преобразовать обработанный текст в набор цифр. Именно эти данные можно использовать как входные данные для модели машинного обучения."
      ],
      "metadata": {
        "id": "9apvtuSVYG6t"
      }
    },
    {
      "cell_type": "code",
      "source": [
        "count_vectorizer = CountVectorizer()\n",
        "string = [''.join(line) for line in normalForm]\n",
        "bag_of_words = count_vectorizer.fit_transform(string)\n",
        "feature_names = count_vectorizer.get_feature_names_out()\n",
        "pd.DataFrame(bag_of_words.toarray(),columns=feature_names[:2956])"
      ],
      "metadata": {
        "id": "YZPs-k5dX-2z",
        "colab": {
          "base_uri": "https://localhost:8080/",
          "height": 195
        },
        "outputId": "2598f894-81a2-4e94-ce6d-e805e8aab1ef"
      },
      "execution_count": null,
      "outputs": [
        {
          "output_type": "execute_result",
          "data": {
            "text/plain": [
              "   alicewasbeginninggetverytiredsittinghersisterthebankandhavingnothingoncetwiceshehadpeepedintothebookhersisterwasreadingbuthadpicturesconversationsandwhattheusebookthoughtalicewithoutpicturesconversation  \\\n",
              "0                                                  1                                                                                                                                                            \n",
              "1                                                  0                                                                                                                                                            \n",
              "2                                                  0                                                                                                                                                            \n",
              "3                                                  0                                                                                                                                                            \n",
              "\n",
              "   shewasconsideringherownmindwellshecouldforthehotdaymadeherfeelverysleepyandstupidwhetherthepleasuremakingdaisychainwouldworththetroublegettingandpickingthedaisieswhensuddenlywhiterabbitwithpinkeyesrancloseher  \\\n",
              "0                                                  0                                                                                                                                                                  \n",
              "1                                                  1                                                                                                                                                                  \n",
              "2                                                  0                                                                                                                                                                  \n",
              "3                                                  0                                                                                                                                                                  \n",
              "\n",
              "   therewasnothingveryremarkablethatnordidalicethinkverymuchoutthewayheartherabbitsayitselfdeardearshalllatewhenshethoughtoverafterwardsoccurredherthatsheoughthavewonderedthisbutthetimeallseemedquitenaturalbutwhentherabbitactuallytookwatchoutitswaistcoatpocketandlookedandthenhurriedalicestartedherfeetforflashedacrosshermindthatshehadneverbeforeseenrabbitwitheitherwaistcoatpocketwatchtakeoutandburningwithcuriositysheranacrossthefieldafterandfortunatelywasjusttimeseepopdownlargerabbitholeunderthehedge  \n",
              "0                                                  0                                                                                                                                                                                                                                                                                                                                                                                                                                                                      \n",
              "1                                                  0                                                                                                                                                                                                                                                                                                                                                                                                                                                                      \n",
              "2                                                  0                                                                                                                                                                                                                                                                                                                                                                                                                                                                      \n",
              "3                                                  1                                                                                                                                                                                                                                                                                                                                                                                                                                                                      "
            ],
            "text/html": [
              "\n",
              "  <div id=\"df-8ea01a28-777a-43d3-ad6e-690ee7b6492a\" class=\"colab-df-container\">\n",
              "    <div>\n",
              "<style scoped>\n",
              "    .dataframe tbody tr th:only-of-type {\n",
              "        vertical-align: middle;\n",
              "    }\n",
              "\n",
              "    .dataframe tbody tr th {\n",
              "        vertical-align: top;\n",
              "    }\n",
              "\n",
              "    .dataframe thead th {\n",
              "        text-align: right;\n",
              "    }\n",
              "</style>\n",
              "<table border=\"1\" class=\"dataframe\">\n",
              "  <thead>\n",
              "    <tr style=\"text-align: right;\">\n",
              "      <th></th>\n",
              "      <th>alicewasbeginninggetverytiredsittinghersisterthebankandhavingnothingoncetwiceshehadpeepedintothebookhersisterwasreadingbuthadpicturesconversationsandwhattheusebookthoughtalicewithoutpicturesconversation</th>\n",
              "      <th>shewasconsideringherownmindwellshecouldforthehotdaymadeherfeelverysleepyandstupidwhetherthepleasuremakingdaisychainwouldworththetroublegettingandpickingthedaisieswhensuddenlywhiterabbitwithpinkeyesrancloseher</th>\n",
              "      <th>therewasnothingveryremarkablethatnordidalicethinkverymuchoutthewayheartherabbitsayitselfdeardearshalllatewhenshethoughtoverafterwardsoccurredherthatsheoughthavewonderedthisbutthetimeallseemedquitenaturalbutwhentherabbitactuallytookwatchoutitswaistcoatpocketandlookedandthenhurriedalicestartedherfeetforflashedacrosshermindthatshehadneverbeforeseenrabbitwitheitherwaistcoatpocketwatchtakeoutandburningwithcuriositysheranacrossthefieldafterandfortunatelywasjusttimeseepopdownlargerabbitholeunderthehedge</th>\n",
              "    </tr>\n",
              "  </thead>\n",
              "  <tbody>\n",
              "    <tr>\n",
              "      <th>0</th>\n",
              "      <td>1</td>\n",
              "      <td>0</td>\n",
              "      <td>0</td>\n",
              "    </tr>\n",
              "    <tr>\n",
              "      <th>1</th>\n",
              "      <td>0</td>\n",
              "      <td>1</td>\n",
              "      <td>0</td>\n",
              "    </tr>\n",
              "    <tr>\n",
              "      <th>2</th>\n",
              "      <td>0</td>\n",
              "      <td>0</td>\n",
              "      <td>0</td>\n",
              "    </tr>\n",
              "    <tr>\n",
              "      <th>3</th>\n",
              "      <td>0</td>\n",
              "      <td>0</td>\n",
              "      <td>1</td>\n",
              "    </tr>\n",
              "  </tbody>\n",
              "</table>\n",
              "</div>\n",
              "    <div class=\"colab-df-buttons\">\n",
              "\n",
              "  <div class=\"colab-df-container\">\n",
              "    <button class=\"colab-df-convert\" onclick=\"convertToInteractive('df-8ea01a28-777a-43d3-ad6e-690ee7b6492a')\"\n",
              "            title=\"Convert this dataframe to an interactive table.\"\n",
              "            style=\"display:none;\">\n",
              "\n",
              "  <svg xmlns=\"http://www.w3.org/2000/svg\" height=\"24px\" viewBox=\"0 -960 960 960\">\n",
              "    <path d=\"M120-120v-720h720v720H120Zm60-500h600v-160H180v160Zm220 220h160v-160H400v160Zm0 220h160v-160H400v160ZM180-400h160v-160H180v160Zm440 0h160v-160H620v160ZM180-180h160v-160H180v160Zm440 0h160v-160H620v160Z\"/>\n",
              "  </svg>\n",
              "    </button>\n",
              "\n",
              "  <style>\n",
              "    .colab-df-container {\n",
              "      display:flex;\n",
              "      gap: 12px;\n",
              "    }\n",
              "\n",
              "    .colab-df-convert {\n",
              "      background-color: #E8F0FE;\n",
              "      border: none;\n",
              "      border-radius: 50%;\n",
              "      cursor: pointer;\n",
              "      display: none;\n",
              "      fill: #1967D2;\n",
              "      height: 32px;\n",
              "      padding: 0 0 0 0;\n",
              "      width: 32px;\n",
              "    }\n",
              "\n",
              "    .colab-df-convert:hover {\n",
              "      background-color: #E2EBFA;\n",
              "      box-shadow: 0px 1px 2px rgba(60, 64, 67, 0.3), 0px 1px 3px 1px rgba(60, 64, 67, 0.15);\n",
              "      fill: #174EA6;\n",
              "    }\n",
              "\n",
              "    .colab-df-buttons div {\n",
              "      margin-bottom: 4px;\n",
              "    }\n",
              "\n",
              "    [theme=dark] .colab-df-convert {\n",
              "      background-color: #3B4455;\n",
              "      fill: #D2E3FC;\n",
              "    }\n",
              "\n",
              "    [theme=dark] .colab-df-convert:hover {\n",
              "      background-color: #434B5C;\n",
              "      box-shadow: 0px 1px 3px 1px rgba(0, 0, 0, 0.15);\n",
              "      filter: drop-shadow(0px 1px 2px rgba(0, 0, 0, 0.3));\n",
              "      fill: #FFFFFF;\n",
              "    }\n",
              "  </style>\n",
              "\n",
              "    <script>\n",
              "      const buttonEl =\n",
              "        document.querySelector('#df-8ea01a28-777a-43d3-ad6e-690ee7b6492a button.colab-df-convert');\n",
              "      buttonEl.style.display =\n",
              "        google.colab.kernel.accessAllowed ? 'block' : 'none';\n",
              "\n",
              "      async function convertToInteractive(key) {\n",
              "        const element = document.querySelector('#df-8ea01a28-777a-43d3-ad6e-690ee7b6492a');\n",
              "        const dataTable =\n",
              "          await google.colab.kernel.invokeFunction('convertToInteractive',\n",
              "                                                    [key], {});\n",
              "        if (!dataTable) return;\n",
              "\n",
              "        const docLinkHtml = 'Like what you see? Visit the ' +\n",
              "          '<a target=\"_blank\" href=https://colab.research.google.com/notebooks/data_table.ipynb>data table notebook</a>'\n",
              "          + ' to learn more about interactive tables.';\n",
              "        element.innerHTML = '';\n",
              "        dataTable['output_type'] = 'display_data';\n",
              "        await google.colab.output.renderOutput(dataTable, element);\n",
              "        const docLink = document.createElement('div');\n",
              "        docLink.innerHTML = docLinkHtml;\n",
              "        element.appendChild(docLink);\n",
              "      }\n",
              "    </script>\n",
              "  </div>\n",
              "\n",
              "\n",
              "<div id=\"df-c58c9d06-0500-4de4-86b7-cf78728a88f4\">\n",
              "  <button class=\"colab-df-quickchart\" onclick=\"quickchart('df-c58c9d06-0500-4de4-86b7-cf78728a88f4')\"\n",
              "            title=\"Suggest charts\"\n",
              "            style=\"display:none;\">\n",
              "\n",
              "<svg xmlns=\"http://www.w3.org/2000/svg\" height=\"24px\"viewBox=\"0 0 24 24\"\n",
              "     width=\"24px\">\n",
              "    <g>\n",
              "        <path d=\"M19 3H5c-1.1 0-2 .9-2 2v14c0 1.1.9 2 2 2h14c1.1 0 2-.9 2-2V5c0-1.1-.9-2-2-2zM9 17H7v-7h2v7zm4 0h-2V7h2v10zm4 0h-2v-4h2v4z\"/>\n",
              "    </g>\n",
              "</svg>\n",
              "  </button>\n",
              "\n",
              "<style>\n",
              "  .colab-df-quickchart {\n",
              "      --bg-color: #E8F0FE;\n",
              "      --fill-color: #1967D2;\n",
              "      --hover-bg-color: #E2EBFA;\n",
              "      --hover-fill-color: #174EA6;\n",
              "      --disabled-fill-color: #AAA;\n",
              "      --disabled-bg-color: #DDD;\n",
              "  }\n",
              "\n",
              "  [theme=dark] .colab-df-quickchart {\n",
              "      --bg-color: #3B4455;\n",
              "      --fill-color: #D2E3FC;\n",
              "      --hover-bg-color: #434B5C;\n",
              "      --hover-fill-color: #FFFFFF;\n",
              "      --disabled-bg-color: #3B4455;\n",
              "      --disabled-fill-color: #666;\n",
              "  }\n",
              "\n",
              "  .colab-df-quickchart {\n",
              "    background-color: var(--bg-color);\n",
              "    border: none;\n",
              "    border-radius: 50%;\n",
              "    cursor: pointer;\n",
              "    display: none;\n",
              "    fill: var(--fill-color);\n",
              "    height: 32px;\n",
              "    padding: 0;\n",
              "    width: 32px;\n",
              "  }\n",
              "\n",
              "  .colab-df-quickchart:hover {\n",
              "    background-color: var(--hover-bg-color);\n",
              "    box-shadow: 0 1px 2px rgba(60, 64, 67, 0.3), 0 1px 3px 1px rgba(60, 64, 67, 0.15);\n",
              "    fill: var(--button-hover-fill-color);\n",
              "  }\n",
              "\n",
              "  .colab-df-quickchart-complete:disabled,\n",
              "  .colab-df-quickchart-complete:disabled:hover {\n",
              "    background-color: var(--disabled-bg-color);\n",
              "    fill: var(--disabled-fill-color);\n",
              "    box-shadow: none;\n",
              "  }\n",
              "\n",
              "  .colab-df-spinner {\n",
              "    border: 2px solid var(--fill-color);\n",
              "    border-color: transparent;\n",
              "    border-bottom-color: var(--fill-color);\n",
              "    animation:\n",
              "      spin 1s steps(1) infinite;\n",
              "  }\n",
              "\n",
              "  @keyframes spin {\n",
              "    0% {\n",
              "      border-color: transparent;\n",
              "      border-bottom-color: var(--fill-color);\n",
              "      border-left-color: var(--fill-color);\n",
              "    }\n",
              "    20% {\n",
              "      border-color: transparent;\n",
              "      border-left-color: var(--fill-color);\n",
              "      border-top-color: var(--fill-color);\n",
              "    }\n",
              "    30% {\n",
              "      border-color: transparent;\n",
              "      border-left-color: var(--fill-color);\n",
              "      border-top-color: var(--fill-color);\n",
              "      border-right-color: var(--fill-color);\n",
              "    }\n",
              "    40% {\n",
              "      border-color: transparent;\n",
              "      border-right-color: var(--fill-color);\n",
              "      border-top-color: var(--fill-color);\n",
              "    }\n",
              "    60% {\n",
              "      border-color: transparent;\n",
              "      border-right-color: var(--fill-color);\n",
              "    }\n",
              "    80% {\n",
              "      border-color: transparent;\n",
              "      border-right-color: var(--fill-color);\n",
              "      border-bottom-color: var(--fill-color);\n",
              "    }\n",
              "    90% {\n",
              "      border-color: transparent;\n",
              "      border-bottom-color: var(--fill-color);\n",
              "    }\n",
              "  }\n",
              "</style>\n",
              "\n",
              "  <script>\n",
              "    async function quickchart(key) {\n",
              "      const quickchartButtonEl =\n",
              "        document.querySelector('#' + key + ' button');\n",
              "      quickchartButtonEl.disabled = true;  // To prevent multiple clicks.\n",
              "      quickchartButtonEl.classList.add('colab-df-spinner');\n",
              "      try {\n",
              "        const charts = await google.colab.kernel.invokeFunction(\n",
              "            'suggestCharts', [key], {});\n",
              "      } catch (error) {\n",
              "        console.error('Error during call to suggestCharts:', error);\n",
              "      }\n",
              "      quickchartButtonEl.classList.remove('colab-df-spinner');\n",
              "      quickchartButtonEl.classList.add('colab-df-quickchart-complete');\n",
              "    }\n",
              "    (() => {\n",
              "      let quickchartButtonEl =\n",
              "        document.querySelector('#df-c58c9d06-0500-4de4-86b7-cf78728a88f4 button');\n",
              "      quickchartButtonEl.style.display =\n",
              "        google.colab.kernel.accessAllowed ? 'block' : 'none';\n",
              "    })();\n",
              "  </script>\n",
              "</div>\n",
              "    </div>\n",
              "  </div>\n"
            ],
            "application/vnd.google.colaboratory.intrinsic+json": {
              "type": "dataframe",
              "summary": "{\n  \"name\": \"pd\",\n  \"rows\": 4,\n  \"fields\": [\n    {\n      \"column\": \"alicewasbeginninggetverytiredsittinghersisterthebankandhavingnothingoncetwiceshehadpeepedintothebookhersisterwasreadingbuthadpicturesconversationsandwhattheusebookthoughtalicewithoutpicturesconversation\",\n      \"properties\": {\n        \"dtype\": \"number\",\n        \"std\": 0,\n        \"min\": 0,\n        \"max\": 1,\n        \"num_unique_values\": 2,\n        \"samples\": [\n          0,\n          1\n        ],\n        \"semantic_type\": \"\",\n        \"description\": \"\"\n      }\n    },\n    {\n      \"column\": \"shewasconsideringherownmindwellshecouldforthehotdaymadeherfeelverysleepyandstupidwhetherthepleasuremakingdaisychainwouldworththetroublegettingandpickingthedaisieswhensuddenlywhiterabbitwithpinkeyesrancloseher\",\n      \"properties\": {\n        \"dtype\": \"number\",\n        \"std\": 0,\n        \"min\": 0,\n        \"max\": 1,\n        \"num_unique_values\": 2,\n        \"samples\": [\n          1,\n          0\n        ],\n        \"semantic_type\": \"\",\n        \"description\": \"\"\n      }\n    },\n    {\n      \"column\": \"therewasnothingveryremarkablethatnordidalicethinkverymuchoutthewayheartherabbitsayitselfdeardearshalllatewhenshethoughtoverafterwardsoccurredherthatsheoughthavewonderedthisbutthetimeallseemedquitenaturalbutwhentherabbitactuallytookwatchoutitswaistcoatpocketandlookedandthenhurriedalicestartedherfeetforflashedacrosshermindthatshehadneverbeforeseenrabbitwitheitherwaistcoatpocketwatchtakeoutandburningwithcuriositysheranacrossthefieldafterandfortunatelywasjusttimeseepopdownlargerabbitholeunderthehedge\",\n      \"properties\": {\n        \"dtype\": \"number\",\n        \"std\": 0,\n        \"min\": 0,\n        \"max\": 1,\n        \"num_unique_values\": 2,\n        \"samples\": [\n          1,\n          0\n        ],\n        \"semantic_type\": \"\",\n        \"description\": \"\"\n      }\n    }\n  ]\n}"
            }
          },
          "metadata": {},
          "execution_count": 18
        }
      ]
    },
    {
      "cell_type": "markdown",
      "source": [
        "\n",
        "\n",
        "---\n",
        "\n",
        "**2.**Разделить текст на главы и в каждой главе отобрать Топ-20 слов с помощью алгоритма TF-IDF."
      ],
      "metadata": {
        "id": "eLmFCTqwaRAu"
      }
    },
    {
      "cell_type": "code",
      "source": [
        "from sklearn.feature_extraction.text import TfidfTransformer\n",
        "transformer = TfidfTransformer()     # Эта категория будет подсчитывать вес tf-idf каждого слова\n",
        "\n",
        "tfidf = transformer.fit_transform(bag_of_words)\n",
        "weight = tfidf.toarray()    # Извлеките матрицу tf-idf, элемент a [i] [j] представляет вес tf-idf слова j в тексте типа i\n",
        "for i in range(len(weight)):    # Печатать вес слова tf-idf для каждого типа текста, первый для обхода всех текстов, а второй для облегчения веса слов в определенном типе текста\n",
        "  print ('---- вывод здесь' , i , 'tf-idf вес слов в текстовом тексте -----')\n",
        "  for j in range(len(feature_names)):\n",
        "    print (feature_names[j],weight[i][j])"
      ],
      "metadata": {
        "id": "eI6YcPcoaXYS",
        "colab": {
          "base_uri": "https://localhost:8080/"
        },
        "outputId": "0ceeb805-e977-46fa-8363-080a4e4ab303"
      },
      "execution_count": null,
      "outputs": [
        {
          "output_type": "stream",
          "name": "stdout",
          "text": [
            "---- вывод здесь 0 tf-idf вес слов в текстовом тексте -----\n",
            "alicewasbeginninggetverytiredsittinghersisterthebankandhavingnothingoncetwiceshehadpeepedintothebookhersisterwasreadingbuthadpicturesconversationsandwhattheusebookthoughtalicewithoutpicturesconversation 1.0\n",
            "shewasconsideringherownmindwellshecouldforthehotdaymadeherfeelverysleepyandstupidwhetherthepleasuremakingdaisychainwouldworththetroublegettingandpickingthedaisieswhensuddenlywhiterabbitwithpinkeyesrancloseher 0.0\n",
            "therewasnothingveryremarkablethatnordidalicethinkverymuchoutthewayheartherabbitsayitselfdeardearshalllatewhenshethoughtoverafterwardsoccurredherthatsheoughthavewonderedthisbutthetimeallseemedquitenaturalbutwhentherabbitactuallytookwatchoutitswaistcoatpocketandlookedandthenhurriedalicestartedherfeetforflashedacrosshermindthatshehadneverbeforeseenrabbitwitheitherwaistcoatpocketwatchtakeoutandburningwithcuriositysheranacrossthefieldafterandfortunatelywasjusttimeseepopdownlargerabbitholeunderthehedge 0.0\n",
            "---- вывод здесь 1 tf-idf вес слов в текстовом тексте -----\n",
            "alicewasbeginninggetverytiredsittinghersisterthebankandhavingnothingoncetwiceshehadpeepedintothebookhersisterwasreadingbuthadpicturesconversationsandwhattheusebookthoughtalicewithoutpicturesconversation 0.0\n",
            "shewasconsideringherownmindwellshecouldforthehotdaymadeherfeelverysleepyandstupidwhetherthepleasuremakingdaisychainwouldworththetroublegettingandpickingthedaisieswhensuddenlywhiterabbitwithpinkeyesrancloseher 1.0\n",
            "therewasnothingveryremarkablethatnordidalicethinkverymuchoutthewayheartherabbitsayitselfdeardearshalllatewhenshethoughtoverafterwardsoccurredherthatsheoughthavewonderedthisbutthetimeallseemedquitenaturalbutwhentherabbitactuallytookwatchoutitswaistcoatpocketandlookedandthenhurriedalicestartedherfeetforflashedacrosshermindthatshehadneverbeforeseenrabbitwitheitherwaistcoatpocketwatchtakeoutandburningwithcuriositysheranacrossthefieldafterandfortunatelywasjusttimeseepopdownlargerabbitholeunderthehedge 0.0\n",
            "---- вывод здесь 2 tf-idf вес слов в текстовом тексте -----\n",
            "alicewasbeginninggetverytiredsittinghersisterthebankandhavingnothingoncetwiceshehadpeepedintothebookhersisterwasreadingbuthadpicturesconversationsandwhattheusebookthoughtalicewithoutpicturesconversation 0.0\n",
            "shewasconsideringherownmindwellshecouldforthehotdaymadeherfeelverysleepyandstupidwhetherthepleasuremakingdaisychainwouldworththetroublegettingandpickingthedaisieswhensuddenlywhiterabbitwithpinkeyesrancloseher 0.0\n",
            "therewasnothingveryremarkablethatnordidalicethinkverymuchoutthewayheartherabbitsayitselfdeardearshalllatewhenshethoughtoverafterwardsoccurredherthatsheoughthavewonderedthisbutthetimeallseemedquitenaturalbutwhentherabbitactuallytookwatchoutitswaistcoatpocketandlookedandthenhurriedalicestartedherfeetforflashedacrosshermindthatshehadneverbeforeseenrabbitwitheitherwaistcoatpocketwatchtakeoutandburningwithcuriositysheranacrossthefieldafterandfortunatelywasjusttimeseepopdownlargerabbitholeunderthehedge 0.0\n",
            "---- вывод здесь 3 tf-idf вес слов в текстовом тексте -----\n",
            "alicewasbeginninggetverytiredsittinghersisterthebankandhavingnothingoncetwiceshehadpeepedintothebookhersisterwasreadingbuthadpicturesconversationsandwhattheusebookthoughtalicewithoutpicturesconversation 0.0\n",
            "shewasconsideringherownmindwellshecouldforthehotdaymadeherfeelverysleepyandstupidwhetherthepleasuremakingdaisychainwouldworththetroublegettingandpickingthedaisieswhensuddenlywhiterabbitwithpinkeyesrancloseher 0.0\n",
            "therewasnothingveryremarkablethatnordidalicethinkverymuchoutthewayheartherabbitsayitselfdeardearshalllatewhenshethoughtoverafterwardsoccurredherthatsheoughthavewonderedthisbutthetimeallseemedquitenaturalbutwhentherabbitactuallytookwatchoutitswaistcoatpocketandlookedandthenhurriedalicestartedherfeetforflashedacrosshermindthatshehadneverbeforeseenrabbitwitheitherwaistcoatpocketwatchtakeoutandburningwithcuriositysheranacrossthefieldafterandfortunatelywasjusttimeseepopdownlargerabbitholeunderthehedge 1.0\n"
          ]
        }
      ]
    },
    {
      "cell_type": "code",
      "source": [
        "import re\n",
        "book = open(\"Alice.txt\", \"r\")\n",
        "book = str(book.read())\n",
        "chapters = re.split(\"CHAPTER \", book, flags = re.IGNORECASE) #Находит все маркеры глав в книге и составляет список всех глав\n",
        "chapters.pop(0) # Удаляет первый элемент в списке, так как это \"\"\n",
        "for i in range(1, len(chapters)+1): #Циклы по количеству глав в книге, начиная с главы 1\n",
        "    writeBook = open(\"{}.txt\".format(i), \"w+\") #Открывает книгу с именем i, если ее нет, то создает\n",
        "    writeBook.write(chapters[i-1]) #Заменяет то, что написано в книге той же главой в списке\n",
        "    writeBook.close() #Наконец, он закрывает текстовый файл"
      ],
      "metadata": {
        "id": "cEY3yUM9eC7-"
      },
      "execution_count": null,
      "outputs": []
    },
    {
      "cell_type": "code",
      "source": [
        "file = open('Alice.txt','r',encoding='utf-8')\n",
        "text = file.readlines()\n",
        "print(text)"
      ],
      "metadata": {
        "id": "BrKjdxrwokIh",
        "colab": {
          "base_uri": "https://localhost:8080/"
        },
        "outputId": "587ce56c-8441-477a-b9a2-1e48f0e2be8d"
      },
      "execution_count": null,
      "outputs": [
        {
          "output_type": "stream",
          "name": "stdout",
          "text": [
            "[\"Alice was beginning to get very tired of sitting by her sister on the bank, and of having nothing to do: once or twice she had peeped into the book her sister was reading, but it had no pictures or conversations in it, `and what is the use of a book,' thought Alice `without pictures or conversation?'\\n\", 'So she was considering in her own mind (as well as she could, for the hot day made her feel very sleepy and stupid), whether the pleasure of making a daisy-chain would be worth the trouble of getting up and picking the daisies, when suddenly a White Rabbit with pink eyes ran close by her.\\n', '\\n', \"There was nothing so very remarkable in that; nor did Alice think it so very much out of the way to hear the Rabbit say to itself, `Oh dear! Oh dear! I shall be late!' (when she thought it over afterwards, it occurred to her that she ought to have wondered at this, but at the time it all seemed quite natural); but when the Rabbit actually took a watch out of its waistcoat-pocket, and looked at it, and then hurried on, Alice started to her feet, for it flashed across her mind that she had never before seen a rabbit with either a waistcoat-pocket, or a watch to take out of it, and burning with curiosity, she ran across the field after it, and fortunately was just in time to see it pop down a large rabbit-hole under the hedge.\"]\n"
          ]
        }
      ]
    },
    {
      "cell_type": "code",
      "source": [
        "import pandas as pd\n",
        "from sklearn.feature_extraction.text import CountVectorizer\n",
        "from sklearn.feature_extraction.text import TfidfTransformer\n",
        "from sklearn.feature_extraction.text import TfidfVectorizer"
      ],
      "metadata": {
        "id": "NNjrgPwNKFkK"
      },
      "execution_count": null,
      "outputs": []
    },
    {
      "cell_type": "markdown",
      "source": [
        "Ниже создаем переменную с классом «CountVectorizer()».\n",
        "Используем метод «fit_transform» в наших предложениях через наш объект класса. Основной причиной использования «CountVectorizer()» является использование метода «TFIDFTransformer».\n",
        "Мы назвали его форму и распечатали."
      ],
      "metadata": {
        "id": "bYTVvxZ6tG9k"
      }
    },
    {
      "cell_type": "code",
      "source": [
        "doc = CountVectorizer()\n",
        "word_count=doc.fit_transform(text)\n",
        "word_count.shape\n",
        "print(word_count)"
      ],
      "metadata": {
        "colab": {
          "base_uri": "https://localhost:8080/"
        },
        "id": "qwSSqVaerP9b",
        "outputId": "e5500793-1ab1-484f-c390-2dfca6c37766"
      },
      "execution_count": null,
      "outputs": [
        {
          "output_type": "stream",
          "name": "stdout",
          "text": [
            "  (0, 4)\t2\n",
            "  (0, 123)\t2\n",
            "  (0, 12)\t1\n",
            "  (0, 114)\t2\n",
            "  (0, 39)\t1\n",
            "  (0, 121)\t1\n",
            "  (0, 113)\t1\n",
            "  (0, 70)\t3\n",
            "  (0, 98)\t1\n",
            "  (0, 16)\t1\n",
            "  (0, 46)\t2\n",
            "  (0, 97)\t2\n",
            "  (0, 72)\t1\n",
            "  (0, 106)\t3\n",
            "  (0, 9)\t1\n",
            "  (0, 6)\t2\n",
            "  (0, 43)\t1\n",
            "  (0, 68)\t1\n",
            "  (0, 29)\t1\n",
            "  (0, 73)\t1\n",
            "  (0, 74)\t3\n",
            "  (0, 117)\t1\n",
            "  (0, 96)\t1\n",
            "  (0, 41)\t2\n",
            "  (0, 79)\t1\n",
            "  :\t:\n",
            "  (3, 59)\t1\n",
            "  (3, 107)\t1\n",
            "  (3, 49)\t1\n",
            "  (3, 101)\t1\n",
            "  (3, 34)\t1\n",
            "  (3, 36)\t1\n",
            "  (3, 0)\t2\n",
            "  (3, 65)\t1\n",
            "  (3, 11)\t1\n",
            "  (3, 94)\t1\n",
            "  (3, 31)\t1\n",
            "  (3, 104)\t1\n",
            "  (3, 14)\t1\n",
            "  (3, 23)\t1\n",
            "  (3, 35)\t1\n",
            "  (3, 2)\t1\n",
            "  (3, 38)\t1\n",
            "  (3, 56)\t1\n",
            "  (3, 92)\t1\n",
            "  (3, 85)\t1\n",
            "  (3, 30)\t1\n",
            "  (3, 57)\t1\n",
            "  (3, 47)\t1\n",
            "  (3, 118)\t1\n",
            "  (3, 45)\t1\n"
          ]
        }
      ]
    },
    {
      "cell_type": "markdown",
      "source": [
        "Анализ блока кода TF-IDF Analysis приведен ниже.\n",
        "\n",
        "Первая строка создает объект «tfidf_vectorizer» через класс «TfidfVectorizer».\n",
        "Во второй строке используем методы подгонки и преобразования одновременно для нашей переменной «text» через него.\n",
        "Мы назначаем наш первый документ переменной для отображения результатов во фрейме данных.\n",
        "В четвертой строке мы создаем фрейм данных из нашей переменной «first_document_vector», меняя местами столбцы и строки с помощью метода «T()», и превращаем нашу переменную в матрицу с помощью «todense()».\n",
        "Выбираем имена индексов через имена функций, а имя столбца будет «tfidf».\n",
        "Вы можете увидеть наше макимальное значение TF-IDF 12 главы, если необходимо получить список максимальных значений в порядке убывания, достаточно поменять 1 в конце кода на количество нужных слов.\n",
        "В задаче поставлен вопрос поиска слова, имеющего максимальное значение метрики TF-IDF, в нашем случае это слово \"the\""
      ],
      "metadata": {
        "id": "miLRV_h6tp1G"
      }
    },
    {
      "cell_type": "code",
      "source": [
        "tfidf_vectorizer=TfidfVectorizer(use_idf=True)\n",
        "tfidf_vectorizer_vectors=tfidf_vectorizer.fit_transform(text)\n",
        "first_vector_tfidfvectorizer=tfidf_vectorizer_vectors[1]\n",
        "df = pd.DataFrame(first_vector_tfidfvectorizer.T.todense(), index=tfidf_vectorizer.get_feature_names_out(), columns=[\"tfidf\"])\n",
        "df.sort_values(by=[\"tfidf\"],ascending=False).head(10)"
      ],
      "metadata": {
        "colab": {
          "base_uri": "https://localhost:8080/",
          "height": 363
        },
        "id": "xPDCs5RIsR_m",
        "outputId": "d4e5c4b9-e529-405d-e525-2bac5fb6b90e"
      },
      "execution_count": null,
      "outputs": [
        {
          "output_type": "execute_result",
          "data": {
            "text/plain": [
              "            tfidf\n",
              "the      0.351064\n",
              "as       0.275005\n",
              "her      0.263298\n",
              "of       0.175532\n",
              "and      0.175532\n",
              "she      0.175532\n",
              "would    0.137502\n",
              "day      0.137502\n",
              "up       0.137502\n",
              "trouble  0.137502"
            ],
            "text/html": [
              "\n",
              "  <div id=\"df-c7b23faf-6238-4666-b7eb-874fdee2949b\" class=\"colab-df-container\">\n",
              "    <div>\n",
              "<style scoped>\n",
              "    .dataframe tbody tr th:only-of-type {\n",
              "        vertical-align: middle;\n",
              "    }\n",
              "\n",
              "    .dataframe tbody tr th {\n",
              "        vertical-align: top;\n",
              "    }\n",
              "\n",
              "    .dataframe thead th {\n",
              "        text-align: right;\n",
              "    }\n",
              "</style>\n",
              "<table border=\"1\" class=\"dataframe\">\n",
              "  <thead>\n",
              "    <tr style=\"text-align: right;\">\n",
              "      <th></th>\n",
              "      <th>tfidf</th>\n",
              "    </tr>\n",
              "  </thead>\n",
              "  <tbody>\n",
              "    <tr>\n",
              "      <th>the</th>\n",
              "      <td>0.351064</td>\n",
              "    </tr>\n",
              "    <tr>\n",
              "      <th>as</th>\n",
              "      <td>0.275005</td>\n",
              "    </tr>\n",
              "    <tr>\n",
              "      <th>her</th>\n",
              "      <td>0.263298</td>\n",
              "    </tr>\n",
              "    <tr>\n",
              "      <th>of</th>\n",
              "      <td>0.175532</td>\n",
              "    </tr>\n",
              "    <tr>\n",
              "      <th>and</th>\n",
              "      <td>0.175532</td>\n",
              "    </tr>\n",
              "    <tr>\n",
              "      <th>she</th>\n",
              "      <td>0.175532</td>\n",
              "    </tr>\n",
              "    <tr>\n",
              "      <th>would</th>\n",
              "      <td>0.137502</td>\n",
              "    </tr>\n",
              "    <tr>\n",
              "      <th>day</th>\n",
              "      <td>0.137502</td>\n",
              "    </tr>\n",
              "    <tr>\n",
              "      <th>up</th>\n",
              "      <td>0.137502</td>\n",
              "    </tr>\n",
              "    <tr>\n",
              "      <th>trouble</th>\n",
              "      <td>0.137502</td>\n",
              "    </tr>\n",
              "  </tbody>\n",
              "</table>\n",
              "</div>\n",
              "    <div class=\"colab-df-buttons\">\n",
              "\n",
              "  <div class=\"colab-df-container\">\n",
              "    <button class=\"colab-df-convert\" onclick=\"convertToInteractive('df-c7b23faf-6238-4666-b7eb-874fdee2949b')\"\n",
              "            title=\"Convert this dataframe to an interactive table.\"\n",
              "            style=\"display:none;\">\n",
              "\n",
              "  <svg xmlns=\"http://www.w3.org/2000/svg\" height=\"24px\" viewBox=\"0 -960 960 960\">\n",
              "    <path d=\"M120-120v-720h720v720H120Zm60-500h600v-160H180v160Zm220 220h160v-160H400v160Zm0 220h160v-160H400v160ZM180-400h160v-160H180v160Zm440 0h160v-160H620v160ZM180-180h160v-160H180v160Zm440 0h160v-160H620v160Z\"/>\n",
              "  </svg>\n",
              "    </button>\n",
              "\n",
              "  <style>\n",
              "    .colab-df-container {\n",
              "      display:flex;\n",
              "      gap: 12px;\n",
              "    }\n",
              "\n",
              "    .colab-df-convert {\n",
              "      background-color: #E8F0FE;\n",
              "      border: none;\n",
              "      border-radius: 50%;\n",
              "      cursor: pointer;\n",
              "      display: none;\n",
              "      fill: #1967D2;\n",
              "      height: 32px;\n",
              "      padding: 0 0 0 0;\n",
              "      width: 32px;\n",
              "    }\n",
              "\n",
              "    .colab-df-convert:hover {\n",
              "      background-color: #E2EBFA;\n",
              "      box-shadow: 0px 1px 2px rgba(60, 64, 67, 0.3), 0px 1px 3px 1px rgba(60, 64, 67, 0.15);\n",
              "      fill: #174EA6;\n",
              "    }\n",
              "\n",
              "    .colab-df-buttons div {\n",
              "      margin-bottom: 4px;\n",
              "    }\n",
              "\n",
              "    [theme=dark] .colab-df-convert {\n",
              "      background-color: #3B4455;\n",
              "      fill: #D2E3FC;\n",
              "    }\n",
              "\n",
              "    [theme=dark] .colab-df-convert:hover {\n",
              "      background-color: #434B5C;\n",
              "      box-shadow: 0px 1px 3px 1px rgba(0, 0, 0, 0.15);\n",
              "      filter: drop-shadow(0px 1px 2px rgba(0, 0, 0, 0.3));\n",
              "      fill: #FFFFFF;\n",
              "    }\n",
              "  </style>\n",
              "\n",
              "    <script>\n",
              "      const buttonEl =\n",
              "        document.querySelector('#df-c7b23faf-6238-4666-b7eb-874fdee2949b button.colab-df-convert');\n",
              "      buttonEl.style.display =\n",
              "        google.colab.kernel.accessAllowed ? 'block' : 'none';\n",
              "\n",
              "      async function convertToInteractive(key) {\n",
              "        const element = document.querySelector('#df-c7b23faf-6238-4666-b7eb-874fdee2949b');\n",
              "        const dataTable =\n",
              "          await google.colab.kernel.invokeFunction('convertToInteractive',\n",
              "                                                    [key], {});\n",
              "        if (!dataTable) return;\n",
              "\n",
              "        const docLinkHtml = 'Like what you see? Visit the ' +\n",
              "          '<a target=\"_blank\" href=https://colab.research.google.com/notebooks/data_table.ipynb>data table notebook</a>'\n",
              "          + ' to learn more about interactive tables.';\n",
              "        element.innerHTML = '';\n",
              "        dataTable['output_type'] = 'display_data';\n",
              "        await google.colab.output.renderOutput(dataTable, element);\n",
              "        const docLink = document.createElement('div');\n",
              "        docLink.innerHTML = docLinkHtml;\n",
              "        element.appendChild(docLink);\n",
              "      }\n",
              "    </script>\n",
              "  </div>\n",
              "\n",
              "\n",
              "<div id=\"df-acea73ad-8048-483e-a0d4-f0a3b81473a0\">\n",
              "  <button class=\"colab-df-quickchart\" onclick=\"quickchart('df-acea73ad-8048-483e-a0d4-f0a3b81473a0')\"\n",
              "            title=\"Suggest charts\"\n",
              "            style=\"display:none;\">\n",
              "\n",
              "<svg xmlns=\"http://www.w3.org/2000/svg\" height=\"24px\"viewBox=\"0 0 24 24\"\n",
              "     width=\"24px\">\n",
              "    <g>\n",
              "        <path d=\"M19 3H5c-1.1 0-2 .9-2 2v14c0 1.1.9 2 2 2h14c1.1 0 2-.9 2-2V5c0-1.1-.9-2-2-2zM9 17H7v-7h2v7zm4 0h-2V7h2v10zm4 0h-2v-4h2v4z\"/>\n",
              "    </g>\n",
              "</svg>\n",
              "  </button>\n",
              "\n",
              "<style>\n",
              "  .colab-df-quickchart {\n",
              "      --bg-color: #E8F0FE;\n",
              "      --fill-color: #1967D2;\n",
              "      --hover-bg-color: #E2EBFA;\n",
              "      --hover-fill-color: #174EA6;\n",
              "      --disabled-fill-color: #AAA;\n",
              "      --disabled-bg-color: #DDD;\n",
              "  }\n",
              "\n",
              "  [theme=dark] .colab-df-quickchart {\n",
              "      --bg-color: #3B4455;\n",
              "      --fill-color: #D2E3FC;\n",
              "      --hover-bg-color: #434B5C;\n",
              "      --hover-fill-color: #FFFFFF;\n",
              "      --disabled-bg-color: #3B4455;\n",
              "      --disabled-fill-color: #666;\n",
              "  }\n",
              "\n",
              "  .colab-df-quickchart {\n",
              "    background-color: var(--bg-color);\n",
              "    border: none;\n",
              "    border-radius: 50%;\n",
              "    cursor: pointer;\n",
              "    display: none;\n",
              "    fill: var(--fill-color);\n",
              "    height: 32px;\n",
              "    padding: 0;\n",
              "    width: 32px;\n",
              "  }\n",
              "\n",
              "  .colab-df-quickchart:hover {\n",
              "    background-color: var(--hover-bg-color);\n",
              "    box-shadow: 0 1px 2px rgba(60, 64, 67, 0.3), 0 1px 3px 1px rgba(60, 64, 67, 0.15);\n",
              "    fill: var(--button-hover-fill-color);\n",
              "  }\n",
              "\n",
              "  .colab-df-quickchart-complete:disabled,\n",
              "  .colab-df-quickchart-complete:disabled:hover {\n",
              "    background-color: var(--disabled-bg-color);\n",
              "    fill: var(--disabled-fill-color);\n",
              "    box-shadow: none;\n",
              "  }\n",
              "\n",
              "  .colab-df-spinner {\n",
              "    border: 2px solid var(--fill-color);\n",
              "    border-color: transparent;\n",
              "    border-bottom-color: var(--fill-color);\n",
              "    animation:\n",
              "      spin 1s steps(1) infinite;\n",
              "  }\n",
              "\n",
              "  @keyframes spin {\n",
              "    0% {\n",
              "      border-color: transparent;\n",
              "      border-bottom-color: var(--fill-color);\n",
              "      border-left-color: var(--fill-color);\n",
              "    }\n",
              "    20% {\n",
              "      border-color: transparent;\n",
              "      border-left-color: var(--fill-color);\n",
              "      border-top-color: var(--fill-color);\n",
              "    }\n",
              "    30% {\n",
              "      border-color: transparent;\n",
              "      border-left-color: var(--fill-color);\n",
              "      border-top-color: var(--fill-color);\n",
              "      border-right-color: var(--fill-color);\n",
              "    }\n",
              "    40% {\n",
              "      border-color: transparent;\n",
              "      border-right-color: var(--fill-color);\n",
              "      border-top-color: var(--fill-color);\n",
              "    }\n",
              "    60% {\n",
              "      border-color: transparent;\n",
              "      border-right-color: var(--fill-color);\n",
              "    }\n",
              "    80% {\n",
              "      border-color: transparent;\n",
              "      border-right-color: var(--fill-color);\n",
              "      border-bottom-color: var(--fill-color);\n",
              "    }\n",
              "    90% {\n",
              "      border-color: transparent;\n",
              "      border-bottom-color: var(--fill-color);\n",
              "    }\n",
              "  }\n",
              "</style>\n",
              "\n",
              "  <script>\n",
              "    async function quickchart(key) {\n",
              "      const quickchartButtonEl =\n",
              "        document.querySelector('#' + key + ' button');\n",
              "      quickchartButtonEl.disabled = true;  // To prevent multiple clicks.\n",
              "      quickchartButtonEl.classList.add('colab-df-spinner');\n",
              "      try {\n",
              "        const charts = await google.colab.kernel.invokeFunction(\n",
              "            'suggestCharts', [key], {});\n",
              "      } catch (error) {\n",
              "        console.error('Error during call to suggestCharts:', error);\n",
              "      }\n",
              "      quickchartButtonEl.classList.remove('colab-df-spinner');\n",
              "      quickchartButtonEl.classList.add('colab-df-quickchart-complete');\n",
              "    }\n",
              "    (() => {\n",
              "      let quickchartButtonEl =\n",
              "        document.querySelector('#df-acea73ad-8048-483e-a0d4-f0a3b81473a0 button');\n",
              "      quickchartButtonEl.style.display =\n",
              "        google.colab.kernel.accessAllowed ? 'block' : 'none';\n",
              "    })();\n",
              "  </script>\n",
              "</div>\n",
              "    </div>\n",
              "  </div>\n"
            ],
            "application/vnd.google.colaboratory.intrinsic+json": {
              "type": "dataframe",
              "summary": "{\n  \"name\": \"df\",\n  \"rows\": 10,\n  \"fields\": [\n    {\n      \"column\": \"tfidf\",\n      \"properties\": {\n        \"dtype\": \"number\",\n        \"std\": 0.07435404843747054,\n        \"min\": 0.13750235764077998,\n        \"max\": 0.351063894932755,\n        \"num_unique_values\": 5,\n        \"samples\": [\n          0.27500471528155995,\n          0.13750235764077998,\n          0.2632979211995663\n        ],\n        \"semantic_type\": \"\",\n        \"description\": \"\"\n      }\n    }\n  ]\n}"
            }
          },
          "metadata": {},
          "execution_count": 26
        }
      ]
    }
  ]
}